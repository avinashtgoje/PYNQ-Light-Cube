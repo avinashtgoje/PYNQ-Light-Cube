{
 "cells": [
  {
   "cell_type": "markdown",
   "metadata": {},
   "source": [
    "# requirements"
   ]
  },
  {
   "cell_type": "code",
   "execution_count": null,
   "metadata": {},
   "outputs": [],
   "source": [
    "!pip3.6 install flask-socketio"
   ]
  },
  {
   "cell_type": "markdown",
   "metadata": {},
   "source": [
    "# web server\n",
    "you can visit a webpage in \n",
    "```<pynq_ip:8080> or <192.168.2.99:8080>```"
   ]
  },
  {
   "cell_type": "code",
   "execution_count": null,
   "metadata": {},
   "outputs": [],
   "source": [
    "import json\n",
    "from lc_pynq import app, LightCube\n",
    "from flask import render_template, request\n",
    "\n",
    "__author__ = 'sonnyhcl'\n",
    "\n",
    "lc = LightCube()\n",
    "\n",
    "@app.route('/')\n",
    "def hello_world():\n",
    "    return render_template('index.html', func_group=lc.func_group)\n",
    "\n",
    "@app.route('/get_xyz', methods=['POST'])\n",
    "def get_xyz():\n",
    "    xyz = lc.get_xyz()\n",
    "    return json.dumps(xyz, ensure_ascii=False)\n",
    "\n",
    "@app.route('/toggle', methods=['POST'])\n",
    "def toggle():\n",
    "    x = request.form.get('x')\n",
    "    y = request.form.get('y')\n",
    "    z = request.form.get('z')\n",
    "    lc.toggle_xyz(int(x), int(y), 7 - int(z))\n",
    "    lc.run()\n",
    "    return json.dumps({'status': 'Success'}, ensure_ascii=False)\n",
    "\n",
    "@app.route('/animation', methods=['POST'])\n",
    "def animation():\n",
    "    mode = request.form.get('mode')\n",
    "    lc.func_group[mode](0)\n",
    "    return json.dumps({'status': 'Success'}, ensure_ascii=False)\n",
    "\n",
    "if __name__ == '__main__':\n",
    "    lc.start()\n",
    "    lc.socketio.run(app, host='0.0.0.0', port=8080)"
   ]
  }
 ],
 "metadata": {
  "kernelspec": {
   "display_name": "Python 3",
   "language": "python",
   "name": "python3"
  },
  "language_info": {
   "codemirror_mode": {
    "name": "ipython",
    "version": 3
   },
   "file_extension": ".py",
   "mimetype": "text/x-python",
   "name": "python",
   "nbconvert_exporter": "python",
   "pygments_lexer": "ipython3",
   "version": "3.6.0"
  }
 },
 "nbformat": 4,
 "nbformat_minor": 1
}
